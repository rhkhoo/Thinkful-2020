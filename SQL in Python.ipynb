{
 "cells": [
  {
   "cell_type": "code",
   "execution_count": 1,
   "metadata": {},
   "outputs": [
    {
     "name": "stdout",
     "output_type": "stream",
     "text": [
      "Requirement already satisfied: sqlalchemy in c:\\users\\rhais\\anaconda3\\lib\\site-packages (1.3.13)\n",
      "Requirement already satisfied: psycopg2 in c:\\users\\rhais\\anaconda3\\lib\\site-packages (2.8.5)\n",
      "Requirement already satisfied: psycopg2-binary in c:\\users\\rhais\\anaconda3\\lib\\site-packages (2.8.5)\n"
     ]
    }
   ],
   "source": [
    "#!pip install sqlalchemy\n",
    "#!pip install psycopg2\n",
    "#!pip install psycopg2-binary"
   ]
  },
  {
   "cell_type": "code",
   "execution_count": 31,
   "metadata": {},
   "outputs": [],
   "source": [
    "from sqlalchemy import create_engine\n",
    "import pandas as pd"
   ]
  },
  {
   "cell_type": "code",
   "execution_count": 3,
   "metadata": {},
   "outputs": [],
   "source": [
    "postgres_user = 'dsbc_student'\n",
    "postgres_pw = '7*.8G9QH21'\n",
    "postgres_host = '142.93.121.174'\n",
    "postgres_port = '5432'\n",
    "postgres_db = 'dvdrentals'\n",
    "\n",
    "# use the credentials to start a connection\n",
    "engine = create_engine('postgresql://{}:{}@{}:{}/{}'.format(\n",
    "    postgres_user, postgres_pw, postgres_host, postgres_port, postgres_db))"
   ]
  },
  {
   "cell_type": "markdown",
   "metadata": {},
   "source": [
    "How many movies are released for each rating?"
   ]
  },
  {
   "cell_type": "code",
   "execution_count": 6,
   "metadata": {
    "scrolled": true
   },
   "outputs": [
    {
     "name": "stdout",
     "output_type": "stream",
     "text": [
      "('G', 178)\n",
      "('PG', 194)\n",
      "('PG-13', 223)\n",
      "('R', 195)\n",
      "('NC-17', 210)\n"
     ]
    }
   ],
   "source": [
    "sql = '''\n",
    "SELECT\n",
    "    rating,\n",
    "    COUNT (DISTINCT(film_id))\n",
    "FROM \n",
    "    film\n",
    "GROUP BY \n",
    "    rating'''\n",
    "\n",
    "film_per_rating = engine.execute(sql)\n",
    "engine.dispose()\n",
    "\n",
    "rows = film_per_rating.fetchall()\n",
    "\n",
    "for row in rows:\n",
    "    print(row)"
   ]
  },
  {
   "cell_type": "markdown",
   "metadata": {},
   "source": [
    "What is the average rental duration for each rating?"
   ]
  },
  {
   "cell_type": "code",
   "execution_count": 35,
   "metadata": {},
   "outputs": [
    {
     "name": "stdout",
     "output_type": "stream",
     "text": [
      "R 4.77\n",
      "NC-17 5.14\n",
      "PG 5.08\n",
      "PG-13 5.05\n",
      "G 4.84\n"
     ]
    },
    {
     "data": {
      "text/html": [
       "<div>\n",
       "<style scoped>\n",
       "    .dataframe tbody tr th:only-of-type {\n",
       "        vertical-align: middle;\n",
       "    }\n",
       "\n",
       "    .dataframe tbody tr th {\n",
       "        vertical-align: top;\n",
       "    }\n",
       "\n",
       "    .dataframe thead th {\n",
       "        text-align: right;\n",
       "    }\n",
       "</style>\n",
       "<table border=\"1\" class=\"dataframe\">\n",
       "  <thead>\n",
       "    <tr style=\"text-align: right;\">\n",
       "      <th></th>\n",
       "      <th>rating</th>\n",
       "      <th>avg_rental_duration</th>\n",
       "    </tr>\n",
       "  </thead>\n",
       "  <tbody>\n",
       "    <tr>\n",
       "      <th>0</th>\n",
       "      <td>R</td>\n",
       "      <td>4.77</td>\n",
       "    </tr>\n",
       "    <tr>\n",
       "      <th>1</th>\n",
       "      <td>NC-17</td>\n",
       "      <td>5.14</td>\n",
       "    </tr>\n",
       "    <tr>\n",
       "      <th>2</th>\n",
       "      <td>PG</td>\n",
       "      <td>5.08</td>\n",
       "    </tr>\n",
       "    <tr>\n",
       "      <th>3</th>\n",
       "      <td>PG-13</td>\n",
       "      <td>5.05</td>\n",
       "    </tr>\n",
       "    <tr>\n",
       "      <th>4</th>\n",
       "      <td>G</td>\n",
       "      <td>4.84</td>\n",
       "    </tr>\n",
       "  </tbody>\n",
       "</table>\n",
       "</div>"
      ],
      "text/plain": [
       "  rating avg_rental_duration\n",
       "0      R                4.77\n",
       "1  NC-17                5.14\n",
       "2     PG                5.08\n",
       "3  PG-13                5.05\n",
       "4      G                4.84"
      ]
     },
     "execution_count": 35,
     "metadata": {},
     "output_type": "execute_result"
    }
   ],
   "source": [
    "sql = '''\n",
    "SELECT rating, \n",
    "    ROUND(AVG(rental_duration), 2)\n",
    "FROM \n",
    "    film\n",
    "GROUP BY \n",
    "    rating'''\n",
    "\n",
    "duration = engine.execute(sql)\n",
    "engine.dispose()\n",
    "\n",
    "rows = duration.fetchall()\n",
    "\n",
    "rating = []\n",
    "avg_duration = []\n",
    "for row in rows:\n",
    "    print(row[0], row[1])\n",
    "\n",
    "pd.DataFrame(rows, columns = ['rating', 'avg_rental_duration'])"
   ]
  },
  {
   "cell_type": "markdown",
   "metadata": {},
   "source": [
    "What is the mean movie length? Calculate this by defining a function."
   ]
  },
  {
   "cell_type": "code",
   "execution_count": 37,
   "metadata": {},
   "outputs": [
    {
     "name": "stdout",
     "output_type": "stream",
     "text": [
      "115.272\n"
     ]
    }
   ],
   "source": [
    "sql = '''\n",
    "SELECT \n",
    "    length\n",
    "FROM\n",
    "    film\n",
    "'''\n",
    "\n",
    "def calc_mean(numbers):\n",
    "    return sum(numbers) / (len(numbers))\n",
    "     #or\n",
    "    #return np.mean(numbers) if using numpy\n",
    "    \n",
    "\n",
    "lengths = engine.execute(sql)\n",
    "engine.dispose()\n",
    "\n",
    "length_rows = lengths.fetchall()\n",
    "lengths = [x['length'] for x in length_rows]\n",
    "\n",
    "avg_length = calc_mean(lengths)\n",
    "print(avg_length)\n"
   ]
  },
  {
   "cell_type": "markdown",
   "metadata": {},
   "source": [
    "Or, a simpler way:"
   ]
  },
  {
   "cell_type": "code",
   "execution_count": 24,
   "metadata": {},
   "outputs": [
    {
     "name": "stdout",
     "output_type": "stream",
     "text": [
      "115.272\n"
     ]
    }
   ],
   "source": [
    "sql = '''\n",
    "SELECT \n",
    "    ROUND(AVG(length), 3)\n",
    "FROM\n",
    "    film'''\n",
    "\n",
    "length = engine.execute(sql)\n",
    "engine.dispose()\n",
    "avg_length = length.fetchall()\n",
    "\n",
    "print(avg_length[0][0])"
   ]
  },
  {
   "cell_type": "markdown",
   "metadata": {},
   "source": [
    "What is the median movie length? Calculate this by defining a function."
   ]
  },
  {
   "cell_type": "code",
   "execution_count": 44,
   "metadata": {},
   "outputs": [],
   "source": [
    "import math\n",
    "\n",
    "def find_median(numbers):\n",
    "    num_sort = sorted(numbers)\n",
    "    mid = math.floor(len(numbers) / 2)\n",
    "    if len(numbers) % 2 == 0:\n",
    "        a = numbers[mid - 1]\n",
    "        b = numbers[mid]\n",
    "        answer = (a + b) / 2\n",
    "    else:\n",
    "        answer = numbers[mid]\n",
    "    return answer\n"
   ]
  },
  {
   "cell_type": "code",
   "execution_count": 46,
   "metadata": {},
   "outputs": [
    {
     "name": "stdout",
     "output_type": "stream",
     "text": [
      "152.0\n"
     ]
    }
   ],
   "source": [
    "sql = '''\n",
    "SELECT\n",
    "    length\n",
    "FROM\n",
    "    film'''\n",
    "\n",
    "lengths = engine.execute(sql)\n",
    "engine.dispose()\n",
    "\n",
    "length_rows = lengths.fetchall()\n",
    "lengths = [x['length'] for x in length_rows]\n",
    "\n",
    "avg_length = find_median(lengths)\n",
    "print(avg_length)"
   ]
  },
  {
   "cell_type": "markdown",
   "metadata": {},
   "source": [
    "Calculate the standard deviation of the movie lengths. Calculate this by defining a function."
   ]
  },
  {
   "cell_type": "code",
   "execution_count": 57,
   "metadata": {},
   "outputs": [
    {
     "name": "stdout",
     "output_type": "stream",
     "text": [
      "40.43\n"
     ]
    }
   ],
   "source": [
    "import numpy as np\n",
    "\n",
    "def stddev(numbers):\n",
    "    return np.std(numbers, ddof = 1)\n",
    "\n",
    "sql = '''\n",
    "SELECT \n",
    "    length\n",
    "FROM \n",
    "    film'''\n",
    "\n",
    "sql_data = engine.execute(sql)\n",
    "engine.dispose()\n",
    "\n",
    "std = sql_data.fetchall()\n",
    "stddev = round(stddev(std), 2)\n",
    "print(stddev)"
   ]
  },
  {
   "cell_type": "code",
   "execution_count": null,
   "metadata": {
    "collapsed": true
   },
   "outputs": [],
   "source": [
    "Or:"
   ]
  },
  {
   "cell_type": "code",
   "execution_count": 48,
   "metadata": {},
   "outputs": [
    {
     "name": "stdout",
     "output_type": "stream",
     "text": [
      "40.43\n"
     ]
    }
   ],
   "source": [
    "sql = '''\n",
    "SELECT \n",
    "    ROUND(STDDEV(length), 2)\n",
    "FROM \n",
    "    film'''\n",
    "\n",
    "sql_data = engine.execute(sql)\n",
    "engine.dispose()\n",
    "\n",
    "stddev = sql_data.fetchall()\n",
    "stddev = stddev[0][0]\n",
    "print(stddev)"
   ]
  }
 ],
 "metadata": {
  "kernelspec": {
   "display_name": "Python 3",
   "language": "python",
   "name": "python3"
  },
  "language_info": {
   "codemirror_mode": {
    "name": "ipython",
    "version": 3
   },
   "file_extension": ".py",
   "mimetype": "text/x-python",
   "name": "python",
   "nbconvert_exporter": "python",
   "pygments_lexer": "ipython3",
   "version": "3.7.6"
  }
 },
 "nbformat": 4,
 "nbformat_minor": 4
}
