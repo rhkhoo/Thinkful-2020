{
  "nbformat": 4,
  "nbformat_minor": 0,
  "metadata": {
    "kernelspec": {
      "display_name": "Python 3",
      "language": "python",
      "name": "python3"
    },
    "language_info": {
      "codemirror_mode": {
        "name": "ipython",
        "version": 3
      },
      "file_extension": ".py",
      "mimetype": "text/x-python",
      "name": "python",
      "nbconvert_exporter": "python",
      "pygments_lexer": "ipython3",
      "version": "3.7.2"
    },
    "colab": {
      "name": "Day 10 Lecture 1 Assignment.ipynb",
      "provenance": [],
      "collapsed_sections": []
    }
  },
  "cells": [
    {
      "cell_type": "markdown",
      "metadata": {
        "id": "j4BXTaq2Z1MZ",
        "colab_type": "text"
      },
      "source": [
        "# SQL in Python Assignment"
      ]
    },
    {
      "cell_type": "code",
      "metadata": {
        "id": "-0y7sAJFZ1Mb",
        "colab_type": "code",
        "colab": {}
      },
      "source": [
        "import pandas as pd\n",
        "from sqlalchemy import *"
      ],
      "execution_count": null,
      "outputs": []
    },
    {
      "cell_type": "markdown",
      "metadata": {
        "id": "JauBVkEEZ1NT",
        "colab_type": "text"
      },
      "source": [
        "### Connect to the personal database you created yesterday.\n",
        "Remember the way the credentials work:\n",
        "```\n",
        "user = 'postgres' # Replace with your user, if different\n",
        "pwd = 'pAsSwOrD' # Replace with your password\n",
        "host = 'localhost'\n",
        "port = '5432'\n",
        "db = 'postgres' # Replace with your database name, if different\n",
        "```"
      ]
    },
    {
      "cell_type": "code",
      "metadata": {
        "id": "AUqXsg2nZ1NU",
        "colab_type": "code",
        "colab": {}
      },
      "source": [
        ""
      ],
      "execution_count": null,
      "outputs": []
    },
    {
      "cell_type": "markdown",
      "metadata": {
        "id": "qtCZHZT9Z1NZ",
        "colab_type": "text"
      },
      "source": [
        "### Obtain a list of tables that are in the database."
      ]
    },
    {
      "cell_type": "code",
      "metadata": {
        "id": "2eBYTPklZ1Na",
        "colab_type": "code",
        "colab": {}
      },
      "source": [
        ""
      ],
      "execution_count": null,
      "outputs": []
    },
    {
      "cell_type": "markdown",
      "metadata": {
        "id": "V_iAGanZZ1Ne",
        "colab_type": "text"
      },
      "source": [
        "### Obtain a list of all the fields that are in the vehicles table along with the data type of each."
      ]
    },
    {
      "cell_type": "code",
      "metadata": {
        "scrolled": true,
        "id": "r-9KdZbJZ1Ne",
        "colab_type": "code",
        "colab": {}
      },
      "source": [
        ""
      ],
      "execution_count": null,
      "outputs": []
    },
    {
      "cell_type": "markdown",
      "metadata": {
        "id": "VLd7otVVZ1Nh",
        "colab_type": "text"
      },
      "source": [
        "### Write a SELECT query to retrieve all records from the database and load them into a Pandas data frame."
      ]
    },
    {
      "cell_type": "code",
      "metadata": {
        "id": "yeV7sCISZ1Ni",
        "colab_type": "code",
        "colab": {}
      },
      "source": [
        ""
      ],
      "execution_count": null,
      "outputs": []
    },
    {
      "cell_type": "markdown",
      "metadata": {
        "id": "4x5xlGP4Z1Nn",
        "colab_type": "text"
      },
      "source": [
        "### Create a table that contains all Audi vehicles with a city fuel efficiency greater than 18."
      ]
    },
    {
      "cell_type": "code",
      "metadata": {
        "scrolled": true,
        "id": "ZHX26MgOZ1No",
        "colab_type": "code",
        "colab": {}
      },
      "source": [
        ""
      ],
      "execution_count": null,
      "outputs": []
    },
    {
      "cell_type": "markdown",
      "metadata": {
        "id": "i2i3ifCFZ1Nw",
        "colab_type": "text"
      },
      "source": [
        "### Delete all records from the temp table you just created."
      ]
    },
    {
      "cell_type": "code",
      "metadata": {
        "scrolled": true,
        "id": "HPu_BDc0Z1Nw",
        "colab_type": "code",
        "colab": {}
      },
      "source": [
        ""
      ],
      "execution_count": null,
      "outputs": []
    },
    {
      "cell_type": "markdown",
      "metadata": {
        "id": "aVCaVGsgZ1Nz",
        "colab_type": "text"
      },
      "source": [
        "### Insert records from the vehicles table back into the table you created where the make is Audi and the city fuel efficiency is greater than 20."
      ]
    },
    {
      "cell_type": "code",
      "metadata": {
        "id": "_UHDkDEAZ1N0",
        "colab_type": "code",
        "colab": {}
      },
      "source": [
        ""
      ],
      "execution_count": null,
      "outputs": []
    },
    {
      "cell_type": "markdown",
      "metadata": {
        "id": "Dp_A2JpjZ1N2",
        "colab_type": "text"
      },
      "source": [
        "### Update the drive field of the records in the table you created to change any \"4-Wheel or All-Wheel Drive\" values to \"All-Wheel Drive.\""
      ]
    },
    {
      "cell_type": "code",
      "metadata": {
        "id": "1dH09T_vZ1N3",
        "colab_type": "code",
        "colab": {}
      },
      "source": [
        ""
      ],
      "execution_count": null,
      "outputs": []
    },
    {
      "cell_type": "markdown",
      "metadata": {
        "id": "xwhxonZGZ1N5",
        "colab_type": "text"
      },
      "source": [
        "### Write a for loop that iterates over the list of makes provided below, selects the top 10 vehicles with the highest city fuel efficiency for each make, and then concatenates all the results together into a single Pandas data frame."
      ]
    },
    {
      "cell_type": "code",
      "metadata": {
        "id": "LFwsUF9kZ1N6",
        "colab_type": "code",
        "colab": {}
      },
      "source": [
        "makes = ['Ford', 'Chevrolet', 'Toyota', 'Honda']"
      ],
      "execution_count": null,
      "outputs": []
    },
    {
      "cell_type": "code",
      "metadata": {
        "id": "YBEn8rcgZ1N9",
        "colab_type": "code",
        "colab": {}
      },
      "source": [
        ""
      ],
      "execution_count": null,
      "outputs": []
    }
  ]
}