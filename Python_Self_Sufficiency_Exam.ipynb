{
  "nbformat": 4,
  "nbformat_minor": 0,
  "metadata": {
    "colab": {
      "name": "Python Self-Sufficiency Exam.ipynb",
      "provenance": [],
      "collapsed_sections": [
        "2Hjvpn3fb8eE",
        "iqkzIRwkcN06",
        "XjmrGZ5EccCo",
        "-dOuzB58cdHE",
        "W9q0wpM4coK7"
      ],
      "authorship_tag": "ABX9TyNBC/7EC99ks6upGG/YfsEi",
      "include_colab_link": true
    },
    "kernelspec": {
      "name": "python3",
      "display_name": "Python 3"
    }
  },
  "cells": [
    {
      "cell_type": "markdown",
      "metadata": {
        "id": "view-in-github",
        "colab_type": "text"
      },
      "source": [
        "<a href=\"https://colab.research.google.com/github/rhkhoo/Thinkful-2020/blob/master/Python_Self_Sufficiency_Exam.ipynb\" target=\"_parent\"><img src=\"https://colab.research.google.com/assets/colab-badge.svg\" alt=\"Open In Colab\"/></a>"
      ]
    },
    {
      "cell_type": "markdown",
      "metadata": {
        "id": "2Hjvpn3fb8eE",
        "colab_type": "text"
      },
      "source": [
        "# 1. Create a function that reverses a string. For example, given the string \"forward\", your function should return \"drawrof\". Assume all inputs are strings."
      ]
    },
    {
      "cell_type": "code",
      "metadata": {
        "id": "OYnpqLK6b1gx",
        "colab_type": "code",
        "colab": {}
      },
      "source": [
        "def reverse(input):\n",
        "  print(input[::-1])"
      ],
      "execution_count": null,
      "outputs": []
    },
    {
      "cell_type": "code",
      "metadata": {
        "id": "C2Sme8_8dGgR",
        "colab_type": "code",
        "colab": {
          "base_uri": "https://localhost:8080/",
          "height": 34
        },
        "outputId": "1b484775-baef-42c4-b294-f53b8047bb67"
      },
      "source": [
        "reverse('forward')"
      ],
      "execution_count": null,
      "outputs": [
        {
          "output_type": "stream",
          "text": [
            "drawrof\n"
          ],
          "name": "stdout"
        }
      ]
    },
    {
      "cell_type": "markdown",
      "metadata": {
        "id": "f6ibkHSicGgZ",
        "colab_type": "text"
      },
      "source": [
        "# 2. Complete the function below that can be used to calculate and return the posterior probability of an event A, given the known outcome of Event B using Bayes Theorem:"
      ]
    },
    {
      "cell_type": "code",
      "metadata": {
        "id": "E4-Vt7dgcJcd",
        "colab_type": "code",
        "colab": {}
      },
      "source": [
        "def bayes(a, b_given_a, b_given_not_a):\n",
        "\n",
        "    \"\"\"\n",
        "    Calculates P(A | B) using bayes theorem.\n",
        "\n",
        "    Args:\n",
        "        a: P(A)\n",
        "        b_given_a: P(B | A)\n",
        "        b_given_not_a: P(B | ~A)\n",
        "\n",
        "    Returns:\n",
        "        P(A | B)\n",
        "    \"\"\"\n",
        "    prob1 = a * b_given_a\n",
        "    prob2 = (1-a) * b_given_not_a\n",
        "    denom = prob1 + prob2\n",
        "    return prob1 / denom"
      ],
      "execution_count": null,
      "outputs": []
    },
    {
      "cell_type": "code",
      "metadata": {
        "id": "VRUV1ymDgaLb",
        "colab_type": "code",
        "colab": {
          "base_uri": "https://localhost:8080/",
          "height": 34
        },
        "outputId": "38da334d-b177-4179-a6eb-1c7579799903"
      },
      "source": [
        "bayes(0.005, 0.98, 0.1)"
      ],
      "execution_count": null,
      "outputs": [
        {
          "output_type": "execute_result",
          "data": {
            "text/plain": [
              "0.046934865900383135"
            ]
          },
          "metadata": {
            "tags": []
          },
          "execution_count": 2
        }
      ]
    },
    {
      "cell_type": "markdown",
      "metadata": {
        "id": "iqkzIRwkcN06",
        "colab_type": "text"
      },
      "source": [
        "# 3. Analyze the teams dataset from the Lahman baseball records. This dataset contains season statistics for each Major League Baseball team."
      ]
    },
    {
      "cell_type": "code",
      "metadata": {
        "id": "LHfqrkHvgvga",
        "colab_type": "code",
        "colab": {}
      },
      "source": [
        "import pandas as pd\n",
        "import matplotlib.pyplot as plt\n",
        "import numpy as np\n",
        "import seaborn as sns\n",
        "\n",
        "import warnings\n",
        "warnings.filterwarnings(\"ignore\")"
      ],
      "execution_count": null,
      "outputs": []
    },
    {
      "cell_type": "markdown",
      "metadata": {
        "id": "XjmrGZ5EccCo",
        "colab_type": "text"
      },
      "source": [
        "## a. For all records since 1995, plot histograms for the following variables. Which distribution do they appear to follow? Consider what each variable is measuring along with the histogram's shape.\n",
        "\n",
        "- Stolen bases per game\n",
        "- Wins\n",
        "- Earned run average"
      ]
    },
    {
      "cell_type": "code",
      "metadata": {
        "id": "XGX9L562czQr",
        "colab_type": "code",
        "colab": {
          "base_uri": "https://localhost:8080/",
          "height": 1000
        },
        "outputId": "b7284601-1c60-44c1-8f94-bddfaea85f79"
      },
      "source": [
        "all_records = pd.read_csv('https://tf-assets-prod.s3.amazonaws.com/tf-curric/data-science/lahman-teams.csv')\n",
        "after_1995 = (all_records['yearID'] >= 1995)\n",
        "records = all_records[after_1995]\n",
        "records.info()\n",
        "records.head()"
      ],
      "execution_count": null,
      "outputs": [
        {
          "output_type": "stream",
          "text": [
            "<class 'pandas.core.frame.DataFrame'>\n",
            "Int64Index: 624 entries, 2181 to 2804\n",
            "Data columns (total 48 columns):\n",
            " #   Column          Non-Null Count  Dtype  \n",
            "---  ------          --------------  -----  \n",
            " 0   yearID          624 non-null    int64  \n",
            " 1   lgID            624 non-null    object \n",
            " 2   teamID          624 non-null    object \n",
            " 3   franchID        624 non-null    object \n",
            " 4   divID           624 non-null    object \n",
            " 5   Rank            624 non-null    int64  \n",
            " 6   G               624 non-null    int64  \n",
            " 7   Ghome           624 non-null    float64\n",
            " 8   W               624 non-null    int64  \n",
            " 9   L               624 non-null    int64  \n",
            " 10  DivWin          624 non-null    object \n",
            " 11  WCWin           624 non-null    object \n",
            " 12  LgWin           624 non-null    object \n",
            " 13  WSWin           624 non-null    object \n",
            " 14  R               624 non-null    int64  \n",
            " 15  AB              624 non-null    int64  \n",
            " 16  H               624 non-null    int64  \n",
            " 17  2B              624 non-null    int64  \n",
            " 18  3B              624 non-null    int64  \n",
            " 19  HR              624 non-null    int64  \n",
            " 20  BB              624 non-null    int64  \n",
            " 21  SO              624 non-null    float64\n",
            " 22  SB              624 non-null    float64\n",
            " 23  CS              624 non-null    float64\n",
            " 24  HBP             480 non-null    float64\n",
            " 25  SF              480 non-null    float64\n",
            " 26  RA              624 non-null    int64  \n",
            " 27  ER              624 non-null    int64  \n",
            " 28  ERA             624 non-null    float64\n",
            " 29  CG              624 non-null    int64  \n",
            " 30  SHO             624 non-null    int64  \n",
            " 31  SV              624 non-null    int64  \n",
            " 32  IPouts          624 non-null    int64  \n",
            " 33  HA              624 non-null    int64  \n",
            " 34  HRA             624 non-null    int64  \n",
            " 35  BBA             624 non-null    int64  \n",
            " 36  SOA             624 non-null    int64  \n",
            " 37  E               624 non-null    int64  \n",
            " 38  DP              624 non-null    float64\n",
            " 39  FP              624 non-null    float64\n",
            " 40  name            624 non-null    object \n",
            " 41  park            624 non-null    object \n",
            " 42  attendance      624 non-null    float64\n",
            " 43  BPF             624 non-null    int64  \n",
            " 44  PPF             624 non-null    int64  \n",
            " 45  teamIDBR        624 non-null    object \n",
            " 46  teamIDlahman45  624 non-null    object \n",
            " 47  teamIDretro     624 non-null    object \n",
            "dtypes: float64(10), int64(25), object(13)\n",
            "memory usage: 238.9+ KB\n"
          ],
          "name": "stdout"
        },
        {
          "output_type": "execute_result",
          "data": {
            "text/html": [
              "<div>\n",
              "<style scoped>\n",
              "    .dataframe tbody tr th:only-of-type {\n",
              "        vertical-align: middle;\n",
              "    }\n",
              "\n",
              "    .dataframe tbody tr th {\n",
              "        vertical-align: top;\n",
              "    }\n",
              "\n",
              "    .dataframe thead th {\n",
              "        text-align: right;\n",
              "    }\n",
              "</style>\n",
              "<table border=\"1\" class=\"dataframe\">\n",
              "  <thead>\n",
              "    <tr style=\"text-align: right;\">\n",
              "      <th></th>\n",
              "      <th>yearID</th>\n",
              "      <th>lgID</th>\n",
              "      <th>teamID</th>\n",
              "      <th>franchID</th>\n",
              "      <th>divID</th>\n",
              "      <th>Rank</th>\n",
              "      <th>G</th>\n",
              "      <th>Ghome</th>\n",
              "      <th>W</th>\n",
              "      <th>L</th>\n",
              "      <th>DivWin</th>\n",
              "      <th>WCWin</th>\n",
              "      <th>LgWin</th>\n",
              "      <th>WSWin</th>\n",
              "      <th>R</th>\n",
              "      <th>AB</th>\n",
              "      <th>H</th>\n",
              "      <th>2B</th>\n",
              "      <th>3B</th>\n",
              "      <th>HR</th>\n",
              "      <th>BB</th>\n",
              "      <th>SO</th>\n",
              "      <th>SB</th>\n",
              "      <th>CS</th>\n",
              "      <th>HBP</th>\n",
              "      <th>SF</th>\n",
              "      <th>RA</th>\n",
              "      <th>ER</th>\n",
              "      <th>ERA</th>\n",
              "      <th>CG</th>\n",
              "      <th>SHO</th>\n",
              "      <th>SV</th>\n",
              "      <th>IPouts</th>\n",
              "      <th>HA</th>\n",
              "      <th>HRA</th>\n",
              "      <th>BBA</th>\n",
              "      <th>SOA</th>\n",
              "      <th>E</th>\n",
              "      <th>DP</th>\n",
              "      <th>FP</th>\n",
              "      <th>name</th>\n",
              "      <th>park</th>\n",
              "      <th>attendance</th>\n",
              "      <th>BPF</th>\n",
              "      <th>PPF</th>\n",
              "      <th>teamIDBR</th>\n",
              "      <th>teamIDlahman45</th>\n",
              "      <th>teamIDretro</th>\n",
              "    </tr>\n",
              "  </thead>\n",
              "  <tbody>\n",
              "    <tr>\n",
              "      <th>2181</th>\n",
              "      <td>1995</td>\n",
              "      <td>NL</td>\n",
              "      <td>ATL</td>\n",
              "      <td>ATL</td>\n",
              "      <td>E</td>\n",
              "      <td>1</td>\n",
              "      <td>144</td>\n",
              "      <td>72.0</td>\n",
              "      <td>90</td>\n",
              "      <td>54</td>\n",
              "      <td>Y</td>\n",
              "      <td>N</td>\n",
              "      <td>Y</td>\n",
              "      <td>Y</td>\n",
              "      <td>645</td>\n",
              "      <td>4814</td>\n",
              "      <td>1202</td>\n",
              "      <td>210</td>\n",
              "      <td>27</td>\n",
              "      <td>168</td>\n",
              "      <td>520</td>\n",
              "      <td>933.0</td>\n",
              "      <td>73.0</td>\n",
              "      <td>43.0</td>\n",
              "      <td>NaN</td>\n",
              "      <td>NaN</td>\n",
              "      <td>540</td>\n",
              "      <td>493</td>\n",
              "      <td>3.44</td>\n",
              "      <td>18</td>\n",
              "      <td>11</td>\n",
              "      <td>34</td>\n",
              "      <td>3873</td>\n",
              "      <td>1184</td>\n",
              "      <td>107</td>\n",
              "      <td>436</td>\n",
              "      <td>1087</td>\n",
              "      <td>100</td>\n",
              "      <td>113.0</td>\n",
              "      <td>0.98</td>\n",
              "      <td>Atlanta Braves</td>\n",
              "      <td>Atlanta-Fulton County Stadium</td>\n",
              "      <td>2561831.0</td>\n",
              "      <td>103</td>\n",
              "      <td>102</td>\n",
              "      <td>ATL</td>\n",
              "      <td>ATL</td>\n",
              "      <td>ATL</td>\n",
              "    </tr>\n",
              "    <tr>\n",
              "      <th>2182</th>\n",
              "      <td>1995</td>\n",
              "      <td>AL</td>\n",
              "      <td>BAL</td>\n",
              "      <td>BAL</td>\n",
              "      <td>E</td>\n",
              "      <td>3</td>\n",
              "      <td>144</td>\n",
              "      <td>72.0</td>\n",
              "      <td>71</td>\n",
              "      <td>73</td>\n",
              "      <td>N</td>\n",
              "      <td>N</td>\n",
              "      <td>N</td>\n",
              "      <td>N</td>\n",
              "      <td>704</td>\n",
              "      <td>4837</td>\n",
              "      <td>1267</td>\n",
              "      <td>229</td>\n",
              "      <td>27</td>\n",
              "      <td>173</td>\n",
              "      <td>574</td>\n",
              "      <td>803.0</td>\n",
              "      <td>92.0</td>\n",
              "      <td>45.0</td>\n",
              "      <td>NaN</td>\n",
              "      <td>NaN</td>\n",
              "      <td>640</td>\n",
              "      <td>607</td>\n",
              "      <td>4.31</td>\n",
              "      <td>19</td>\n",
              "      <td>10</td>\n",
              "      <td>29</td>\n",
              "      <td>3801</td>\n",
              "      <td>1165</td>\n",
              "      <td>149</td>\n",
              "      <td>523</td>\n",
              "      <td>930</td>\n",
              "      <td>72</td>\n",
              "      <td>141.0</td>\n",
              "      <td>0.98</td>\n",
              "      <td>Baltimore Orioles</td>\n",
              "      <td>Oriole Park at Camden Yards</td>\n",
              "      <td>3098475.0</td>\n",
              "      <td>102</td>\n",
              "      <td>101</td>\n",
              "      <td>BAL</td>\n",
              "      <td>BAL</td>\n",
              "      <td>BAL</td>\n",
              "    </tr>\n",
              "    <tr>\n",
              "      <th>2183</th>\n",
              "      <td>1995</td>\n",
              "      <td>AL</td>\n",
              "      <td>BOS</td>\n",
              "      <td>BOS</td>\n",
              "      <td>E</td>\n",
              "      <td>1</td>\n",
              "      <td>144</td>\n",
              "      <td>72.0</td>\n",
              "      <td>86</td>\n",
              "      <td>58</td>\n",
              "      <td>Y</td>\n",
              "      <td>N</td>\n",
              "      <td>N</td>\n",
              "      <td>N</td>\n",
              "      <td>791</td>\n",
              "      <td>4997</td>\n",
              "      <td>1399</td>\n",
              "      <td>286</td>\n",
              "      <td>31</td>\n",
              "      <td>175</td>\n",
              "      <td>560</td>\n",
              "      <td>923.0</td>\n",
              "      <td>99.0</td>\n",
              "      <td>44.0</td>\n",
              "      <td>NaN</td>\n",
              "      <td>NaN</td>\n",
              "      <td>698</td>\n",
              "      <td>630</td>\n",
              "      <td>4.39</td>\n",
              "      <td>7</td>\n",
              "      <td>9</td>\n",
              "      <td>39</td>\n",
              "      <td>3876</td>\n",
              "      <td>1338</td>\n",
              "      <td>127</td>\n",
              "      <td>476</td>\n",
              "      <td>888</td>\n",
              "      <td>120</td>\n",
              "      <td>151.0</td>\n",
              "      <td>0.97</td>\n",
              "      <td>Boston Red Sox</td>\n",
              "      <td>Fenway Park II</td>\n",
              "      <td>2164410.0</td>\n",
              "      <td>103</td>\n",
              "      <td>103</td>\n",
              "      <td>BOS</td>\n",
              "      <td>BOS</td>\n",
              "      <td>BOS</td>\n",
              "    </tr>\n",
              "    <tr>\n",
              "      <th>2184</th>\n",
              "      <td>1995</td>\n",
              "      <td>AL</td>\n",
              "      <td>CAL</td>\n",
              "      <td>ANA</td>\n",
              "      <td>W</td>\n",
              "      <td>2</td>\n",
              "      <td>145</td>\n",
              "      <td>72.0</td>\n",
              "      <td>78</td>\n",
              "      <td>67</td>\n",
              "      <td>N</td>\n",
              "      <td>N</td>\n",
              "      <td>N</td>\n",
              "      <td>N</td>\n",
              "      <td>801</td>\n",
              "      <td>5019</td>\n",
              "      <td>1390</td>\n",
              "      <td>252</td>\n",
              "      <td>25</td>\n",
              "      <td>186</td>\n",
              "      <td>564</td>\n",
              "      <td>889.0</td>\n",
              "      <td>58.0</td>\n",
              "      <td>39.0</td>\n",
              "      <td>NaN</td>\n",
              "      <td>NaN</td>\n",
              "      <td>697</td>\n",
              "      <td>645</td>\n",
              "      <td>4.52</td>\n",
              "      <td>8</td>\n",
              "      <td>9</td>\n",
              "      <td>42</td>\n",
              "      <td>3852</td>\n",
              "      <td>1310</td>\n",
              "      <td>163</td>\n",
              "      <td>486</td>\n",
              "      <td>901</td>\n",
              "      <td>95</td>\n",
              "      <td>120.0</td>\n",
              "      <td>0.98</td>\n",
              "      <td>California Angels</td>\n",
              "      <td>Anaheim Stadium</td>\n",
              "      <td>1748680.0</td>\n",
              "      <td>99</td>\n",
              "      <td>99</td>\n",
              "      <td>CAL</td>\n",
              "      <td>CAL</td>\n",
              "      <td>CAL</td>\n",
              "    </tr>\n",
              "    <tr>\n",
              "      <th>2185</th>\n",
              "      <td>1995</td>\n",
              "      <td>AL</td>\n",
              "      <td>CHA</td>\n",
              "      <td>CHW</td>\n",
              "      <td>C</td>\n",
              "      <td>3</td>\n",
              "      <td>145</td>\n",
              "      <td>72.0</td>\n",
              "      <td>68</td>\n",
              "      <td>76</td>\n",
              "      <td>N</td>\n",
              "      <td>N</td>\n",
              "      <td>N</td>\n",
              "      <td>N</td>\n",
              "      <td>755</td>\n",
              "      <td>5060</td>\n",
              "      <td>1417</td>\n",
              "      <td>252</td>\n",
              "      <td>37</td>\n",
              "      <td>146</td>\n",
              "      <td>576</td>\n",
              "      <td>767.0</td>\n",
              "      <td>110.0</td>\n",
              "      <td>39.0</td>\n",
              "      <td>NaN</td>\n",
              "      <td>NaN</td>\n",
              "      <td>758</td>\n",
              "      <td>692</td>\n",
              "      <td>4.85</td>\n",
              "      <td>12</td>\n",
              "      <td>4</td>\n",
              "      <td>36</td>\n",
              "      <td>3852</td>\n",
              "      <td>1374</td>\n",
              "      <td>164</td>\n",
              "      <td>617</td>\n",
              "      <td>892</td>\n",
              "      <td>108</td>\n",
              "      <td>131.0</td>\n",
              "      <td>0.98</td>\n",
              "      <td>Chicago White Sox</td>\n",
              "      <td>Comiskey Park II</td>\n",
              "      <td>1609773.0</td>\n",
              "      <td>96</td>\n",
              "      <td>95</td>\n",
              "      <td>CHW</td>\n",
              "      <td>CHA</td>\n",
              "      <td>CHA</td>\n",
              "    </tr>\n",
              "  </tbody>\n",
              "</table>\n",
              "</div>"
            ],
            "text/plain": [
              "      yearID lgID teamID franchID  ...  PPF  teamIDBR  teamIDlahman45  teamIDretro\n",
              "2181    1995   NL    ATL      ATL  ...  102       ATL             ATL          ATL\n",
              "2182    1995   AL    BAL      BAL  ...  101       BAL             BAL          BAL\n",
              "2183    1995   AL    BOS      BOS  ...  103       BOS             BOS          BOS\n",
              "2184    1995   AL    CAL      ANA  ...   99       CAL             CAL          CAL\n",
              "2185    1995   AL    CHA      CHW  ...   95       CHW             CHA          CHA\n",
              "\n",
              "[5 rows x 48 columns]"
            ]
          },
          "metadata": {
            "tags": []
          },
          "execution_count": 68
        }
      ]
    },
    {
      "cell_type": "code",
      "metadata": {
        "id": "2cEybCPKh6bm",
        "colab_type": "code",
        "colab": {
          "base_uri": "https://localhost:8080/",
          "height": 298
        },
        "outputId": "3397bfba-6ee6-4bc5-9c1e-d527b28b4683"
      },
      "source": [
        "plt.hist(records['SB']/records['G'])\n",
        "\n",
        "plt.title('Stolen Bases per Game Distribution')\n",
        "\n",
        "m = np.mean(records['SB']/records['G'])\n",
        "s = np.std(records['SB']/records['G'])\n",
        "\n",
        "plt.axvline(m, color='c', linestyle='solid', linewidth=2)\n",
        "plt.axvline(m + s, color='c', linestyle='dashed', linewidth=2)\n",
        "plt.axvline(m - s, color='c', linestyle='dashed', linewidth=2)"
      ],
      "execution_count": null,
      "outputs": [
        {
          "output_type": "execute_result",
          "data": {
            "text/plain": [
              "<matplotlib.lines.Line2D at 0x7f1df83b6630>"
            ]
          },
          "metadata": {
            "tags": []
          },
          "execution_count": 69
        },
        {
          "output_type": "display_data",
          "data": {
            "image/png": "[encoded data removed]",
            "text/plain": [
              "<Figure size 432x288 with 1 Axes>"
            ]
          },
          "metadata": {
            "tags": [],
            "needs_background": "light"
          }
        }
      ]
    },
    {
      "cell_type": "markdown",
      "metadata": {
        "id": "addDyllILCdO",
        "colab_type": "text"
      },
      "source": [
        "The 'Stolen Bases per Game' variable appears to follow a Poisson distribution since we are measuring number of stolen bases per a certain amount of time (one game)."
      ]
    },
    {
      "cell_type": "code",
      "metadata": {
        "id": "YEJVPl1ZhJkE",
        "colab_type": "code",
        "colab": {
          "base_uri": "https://localhost:8080/",
          "height": 298
        },
        "outputId": "6d15becf-06bf-497c-b566-75ad1d9ceba1"
      },
      "source": [
        "plt.hist(records['W'])\n",
        "\n",
        "plt.title('Wins')\n",
        "\n",
        "m = np.mean(records['W'])\n",
        "s = np.std(records['W'])\n",
        "\n",
        "plt.axvline(m, color='c', linestyle='solid', linewidth=2)\n",
        "plt.axvline(m + s, color='c', linestyle='dashed', linewidth=2)\n",
        "plt.axvline(m - s, color='c', linestyle='dashed', linewidth=2)"
      ],
      "execution_count": null,
      "outputs": [
        {
          "output_type": "execute_result",
          "data": {
            "text/plain": [
              "<matplotlib.lines.Line2D at 0x7f1df9e71908>"
            ]
          },
          "metadata": {
            "tags": []
          },
          "execution_count": 70
        },
        {
          "output_type": "display_data",
          "data": {
            "image/png": "[encoded data removed]",
            "text/plain": [
              "<Figure size 432x288 with 1 Axes>"
            ]
          },
          "metadata": {
            "tags": [],
            "needs_background": "light"
          }
        }
      ]
    },
    {
      "cell_type": "markdown",
      "metadata": {
        "id": "-2jW8g54PaZ-",
        "colab_type": "text"
      },
      "source": [
        "'Wins' seems to follow a Binomial distribution since we are measuring a variable with only two possible outcomes."
      ]
    },
    {
      "cell_type": "code",
      "metadata": {
        "id": "oYHM1fi4h_1X",
        "colab_type": "code",
        "colab": {
          "base_uri": "https://localhost:8080/",
          "height": 298
        },
        "outputId": "a2b3dae0-bd04-461b-f784-e14b56e1cfe7"
      },
      "source": [
        "plt.hist(records['ERA'])\n",
        "\n",
        "plt.title('Earned Run Average')\n",
        "\n",
        "m = np.mean(records['ERA'])\n",
        "s = np.std(records['ERA'])\n",
        "med = np.median(records['ERA'])\n",
        "\n",
        "plt.axvline(m, color='c', linestyle='solid', linewidth=2)\n",
        "plt.axvline(m + s, color='c', linestyle='dashed', linewidth=2)\n",
        "plt.axvline(m - s, color='c', linestyle='dashed', linewidth=2)"
      ],
      "execution_count": null,
      "outputs": [
        {
          "output_type": "execute_result",
          "data": {
            "text/plain": [
              "<matplotlib.lines.Line2D at 0x7f1df8c26438>"
            ]
          },
          "metadata": {
            "tags": []
          },
          "execution_count": 71
        },
        {
          "output_type": "display_data",
          "data": {
            "image/png": "[encoded data removed]",
            "text/plain": [
              "<Figure size 432x288 with 1 Axes>"
            ]
          },
          "metadata": {
            "tags": [],
            "needs_background": "light"
          }
        }
      ]
    },
    {
      "cell_type": "markdown",
      "metadata": {
        "id": "w4UDwgEPPr7p",
        "colab_type": "text"
      },
      "source": [
        "This variable seems to follow a Normal distribution. This makes sense as very few pitchers will have very high or very low ERAs, the rest will cluster towards the center of the range. The mean and the median of the data are also nearly identical, supporting this being a normal distribution."
      ]
    },
    {
      "cell_type": "markdown",
      "metadata": {
        "id": "-dOuzB58cdHE",
        "colab_type": "text"
      },
      "source": [
        "## b. Conduct some further exploratory data analysis on this dataset. Consider qualities like distributions, correlations and trends over time. Try to find something interesting to say about the data, and use visualizations to support your argument."
      ]
    },
    {
      "cell_type": "code",
      "metadata": {
        "id": "nnYmZ1wMczv5",
        "colab_type": "code",
        "colab": {
          "base_uri": "https://localhost:8080/",
          "height": 296
        },
        "outputId": "c1cf5229-ae65-4898-c264-225826c1f329"
      },
      "source": [
        "plt.bar(records['yearID'], records['SB']/records['G'])\n",
        "\n",
        "plt.xlabel('Year')\n",
        "plt.ylabel('Stolen Bases per Game')"
      ],
      "execution_count": null,
      "outputs": [
        {
          "output_type": "execute_result",
          "data": {
            "text/plain": [
              "Text(0, 0.5, 'Stolen Bases per Game')"
            ]
          },
          "metadata": {
            "tags": []
          },
          "execution_count": 73
        },
        {
          "output_type": "display_data",
          "data": {
            "image/png": "[encoded data removed]",
            "text/plain": [
              "<Figure size 432x288 with 1 Axes>"
            ]
          },
          "metadata": {
            "tags": [],
            "needs_background": "light"
          }
        }
      ]
    },
    {
      "cell_type": "markdown",
      "metadata": {
        "id": "z5WUFRrhZ503",
        "colab_type": "text"
      },
      "source": [
        "Bases stolen per game appears to have decreased over time. Why might this be? First, let's look at how stealing bases affects winning:"
      ]
    },
    {
      "cell_type": "code",
      "metadata": {
        "id": "1yPzbZiMaA-w",
        "colab_type": "code",
        "colab": {
          "base_uri": "https://localhost:8080/",
          "height": 296
        },
        "outputId": "ca37888f-ce4d-4fd4-87e7-3b5aaaf8864a"
      },
      "source": [
        "plt.scatter(records['SB']/records['G'], records['W'])\n",
        "\n",
        "plt.xlabel('Stolen Bases per Game')\n",
        "plt.ylabel('Wins')"
      ],
      "execution_count": null,
      "outputs": [
        {
          "output_type": "execute_result",
          "data": {
            "text/plain": [
              "Text(0, 0.5, 'Wins')"
            ]
          },
          "metadata": {
            "tags": []
          },
          "execution_count": 74
        },
        {
          "output_type": "display_data",
          "data": {
            "image/png": "[encoded data removed]",
            "text/plain": [
              "<Figure size 432x288 with 1 Axes>"
            ]
          },
          "metadata": {
            "tags": [],
            "needs_background": "light"
          }
        }
      ]
    },
    {
      "cell_type": "markdown",
      "metadata": {
        "id": "SNbQslNfG0Wi",
        "colab_type": "text"
      },
      "source": [
        "There doesn't seem to be a strong correlation between stolen bases and winning, so teams might advise their players that attempting to steal a base isn't work the risk. We can look further into how being caught stealing affects winning:"
      ]
    },
    {
      "cell_type": "code",
      "metadata": {
        "id": "j-mOzS7TKg1E",
        "colab_type": "code",
        "colab": {
          "base_uri": "https://localhost:8080/",
          "height": 296
        },
        "outputId": "d06e43dd-4c89-4083-81de-54275b781524"
      },
      "source": [
        "plt.scatter(records['CS']/records['G'], records['L'])\n",
        "\n",
        "plt.xlabel('Caught Stealing per Game')\n",
        "plt.ylabel('Losses')"
      ],
      "execution_count": null,
      "outputs": [
        {
          "output_type": "execute_result",
          "data": {
            "text/plain": [
              "Text(0, 0.5, 'Losses')"
            ]
          },
          "metadata": {
            "tags": []
          },
          "execution_count": 75
        },
        {
          "output_type": "display_data",
          "data": {
            "image/png": "[encoded data removed]",
            "text/plain": [
              "<Figure size 432x288 with 1 Axes>"
            ]
          },
          "metadata": {
            "tags": [],
            "needs_background": "light"
          }
        }
      ]
    },
    {
      "cell_type": "code",
      "metadata": {
        "id": "KkSYtiyONrv4",
        "colab_type": "code",
        "colab": {
          "base_uri": "https://localhost:8080/",
          "height": 296
        },
        "outputId": "c109361b-0972-4b7b-f2c6-56cb18c12c32"
      },
      "source": [
        "plt.scatter(records['CS']/records['G'], records['W'])\n",
        "\n",
        "plt.xlabel('Caught Stealing per Game')\n",
        "plt.ylabel('Wins')"
      ],
      "execution_count": null,
      "outputs": [
        {
          "output_type": "execute_result",
          "data": {
            "text/plain": [
              "Text(0, 0.5, 'Wins')"
            ]
          },
          "metadata": {
            "tags": []
          },
          "execution_count": 76
        },
        {
          "output_type": "display_data",
          "data": {
            "image/png": "[encoded data removed]",
            "text/plain": [
              "<Figure size 432x288 with 1 Axes>"
            ]
          },
          "metadata": {
            "tags": [],
            "needs_background": "light"
          }
        }
      ]
    },
    {
      "cell_type": "markdown",
      "metadata": {
        "id": "_gfxaE3iOIK4",
        "colab_type": "text"
      },
      "source": [
        "Being caught stealing doesn't seem to have any effect on wins or losses. Additionaly, the teams with the most stolen bases per game are the highest ranked:"
      ]
    },
    {
      "cell_type": "code",
      "metadata": {
        "id": "HMLdFJGOHBBG",
        "colab_type": "code",
        "colab": {
          "base_uri": "https://localhost:8080/",
          "height": 296
        },
        "outputId": "cf7cb6aa-6644-4395-c584-87335082fd87"
      },
      "source": [
        "plt.bar(records['Rank'], records['SB']/records['G'])\n",
        "\n",
        "plt.xlabel('Rank')\n",
        "plt.ylabel('Stolen Bases per Game')"
      ],
      "execution_count": null,
      "outputs": [
        {
          "output_type": "execute_result",
          "data": {
            "text/plain": [
              "Text(0, 0.5, 'Stolen Bases per Game')"
            ]
          },
          "metadata": {
            "tags": []
          },
          "execution_count": 77
        },
        {
          "output_type": "display_data",
          "data": {
            "image/png": "[encoded data removed]",
            "text/plain": [
              "<Figure size 432x288 with 1 Axes>"
            ]
          },
          "metadata": {
            "tags": [],
            "needs_background": "light"
          }
        }
      ]
    },
    {
      "cell_type": "markdown",
      "metadata": {
        "id": "X4TORObIOUwd",
        "colab_type": "text"
      },
      "source": [
        "So why are stolen bases declining in popularity when at worst they don't increase wins or losses and at best they increase wins and team rank? If the data set included statistics like Stolen Base Runs (SBR) or Stolen Base Percentage (SB%), more analysis could be done to find how often stolen bases result in a run for the team and find what percentage of steals are actually effective. These insights could tell us whether teams might be instructing their player to not take the risk of stealing bases."
      ]
    },
    {
      "cell_type": "markdown",
      "metadata": {
        "id": "W9q0wpM4coK7",
        "colab_type": "text"
      },
      "source": [
        "# 4. Choose any two of the variables from 3. Draw 1,000 samples, taking the mean of 100 observations each time. Plot the frequencies of the sample means. What distribution does this appear to follow?\n",
        "Hint: df['col'].sample(n=50) will draw 50 random observations from df['col']."
      ]
    },
    {
      "cell_type": "code",
      "metadata": {
        "id": "WedS7XJ2c0Yl",
        "colab_type": "code",
        "colab": {
          "base_uri": "https://localhost:8080/",
          "height": 298
        },
        "outputId": "68d1fb70-c086-41ac-d7f7-1058003bbec1"
      },
      "source": [
        "results = []\n",
        "i = 0\n",
        "while i < 1000:\n",
        "  samples = records['W'].sample(n=100)\n",
        "  results.append(np.mean(samples))\n",
        "  i += 1\n",
        "\n",
        "plt.hist(results)\n",
        "plt.title('Wins Distribution')"
      ],
      "execution_count": null,
      "outputs": [
        {
          "output_type": "execute_result",
          "data": {
            "text/plain": [
              "Text(0.5, 1.0, 'Wins Distribution')"
            ]
          },
          "metadata": {
            "tags": []
          },
          "execution_count": 78
        },
        {
          "output_type": "display_data",
          "data": {
            "image/png": "[encoded data removed]",
            "text/plain": [
              "<Figure size 432x288 with 1 Axes>"
            ]
          },
          "metadata": {
            "tags": [],
            "needs_background": "light"
          }
        }
      ]
    },
    {
      "cell_type": "code",
      "metadata": {
        "id": "S9JxeydGTRli",
        "colab_type": "code",
        "colab": {
          "base_uri": "https://localhost:8080/",
          "height": 298
        },
        "outputId": "e9c55fda-5954-4004-bfac-0236d1ee9c0b"
      },
      "source": [
        "results = []\n",
        "i = 0\n",
        "while i < 1000:\n",
        "  samples = records['ERA'].sample(n=100)\n",
        "  results.append(np.mean(samples))\n",
        "  i += 1\n",
        "\n",
        "plt.hist(results)\n",
        "plt.title('Earned Run Average Distribution')"
      ],
      "execution_count": null,
      "outputs": [
        {
          "output_type": "execute_result",
          "data": {
            "text/plain": [
              "Text(0.5, 1.0, 'Earned Run Average Distribution')"
            ]
          },
          "metadata": {
            "tags": []
          },
          "execution_count": 80
        },
        {
          "output_type": "display_data",
          "data": {
            "image/png": "[encoded data removed]",
            "text/plain": [
              "<Figure size 432x288 with 1 Axes>"
            ]
          },
          "metadata": {
            "tags": [],
            "needs_background": "light"
          }
        }
      ]
    },
    {
      "cell_type": "markdown",
      "metadata": {
        "id": "8Q4k8HqQT9ik",
        "colab_type": "text"
      },
      "source": [
        "Both of these distributions seem to follow a Normal distribution."
      ]
    }
  ]
}